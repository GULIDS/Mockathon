{
 "cells": [
  {
   "cell_type": "code",
   "execution_count": 3,
   "id": "2af640d8",
   "metadata": {},
   "outputs": [],
   "source": [
    "import pandas\n",
    "import json\n",
    "import seaborn as sns"
   ]
  },
  {
   "cell_type": "code",
   "execution_count": 4,
   "id": "34526c18",
   "metadata": {},
   "outputs": [
    {
     "name": "stderr",
     "output_type": "stream",
     "text": [
      "/tmp/ipykernel_1351683/2249426100.py:1: DtypeWarning: Columns (6,7,8) have mixed types. Specify dtype option on import or set low_memory=False.\n",
      "  data=pandas.read_csv('questions.csv')\n"
     ]
    }
   ],
   "source": [
    "data=pandas.read_csv('questions.csv')"
   ]
  },
  {
   "cell_type": "code",
   "execution_count": 69,
   "id": "1ee9cf36",
   "metadata": {},
   "outputs": [
    {
     "data": {
      "text/plain": [
       "Index(['/path - /path_split_1', '/path - /path_split_2',\n",
       "       '/path - /path_split_3', '/path - /path_split_4',\n",
       "       '/path - /path_split_5', '/path - /path_split_6',\n",
       "       '/path - /path_split_7', '/path - /path_split_8',\n",
       "       '/path - /path_split_9', '/value'],\n",
       "      dtype='object')"
      ]
     },
     "execution_count": 69,
     "metadata": {},
     "output_type": "execute_result"
    }
   ],
   "source": [
    "data.columns"
   ]
  },
  {
   "cell_type": "code",
   "execution_count": 5,
   "id": "4161af88",
   "metadata": {},
   "outputs": [],
   "source": [
    "new_header=[\"col1\",\"col2\",\"col3\",\"col4\",\"col5\",\"col6\",\"col7\",\"col8\",\"col9\",\"value\"]"
   ]
  },
  {
   "cell_type": "code",
   "execution_count": 7,
   "id": "2a5021a9",
   "metadata": {},
   "outputs": [],
   "source": [
    "data.columns=new_header"
   ]
  },
  {
   "cell_type": "code",
   "execution_count": 8,
   "id": "cf8030c0",
   "metadata": {},
   "outputs": [],
   "source": [
    "data=data.drop(['col1'],axis=1)"
   ]
  },
  {
   "cell_type": "code",
   "execution_count": 62,
   "id": "fc2444a8",
   "metadata": {},
   "outputs": [
    {
     "data": {
      "text/html": [
       "<div>\n",
       "<style scoped>\n",
       "    .dataframe tbody tr th:only-of-type {\n",
       "        vertical-align: middle;\n",
       "    }\n",
       "\n",
       "    .dataframe tbody tr th {\n",
       "        vertical-align: top;\n",
       "    }\n",
       "\n",
       "    .dataframe thead th {\n",
       "        text-align: right;\n",
       "    }\n",
       "</style>\n",
       "<table border=\"1\" class=\"dataframe\">\n",
       "  <thead>\n",
       "    <tr style=\"text-align: right;\">\n",
       "      <th></th>\n",
       "      <th>col2</th>\n",
       "      <th>col3</th>\n",
       "      <th>col4</th>\n",
       "      <th>col5</th>\n",
       "      <th>col6</th>\n",
       "      <th>col7</th>\n",
       "      <th>col8</th>\n",
       "      <th>col9</th>\n",
       "      <th>value</th>\n",
       "    </tr>\n",
       "  </thead>\n",
       "  <tbody>\n",
       "    <tr>\n",
       "      <th>0</th>\n",
       "      <td>3724</td>\n",
       "      <td>title</td>\n",
       "      <td>NaN</td>\n",
       "      <td>NaN</td>\n",
       "      <td>NaN</td>\n",
       "      <td>NaN</td>\n",
       "      <td>NaN</td>\n",
       "      <td>NaN</td>\n",
       "      <td>HR-Q1002B: Strengths</td>\n",
       "    </tr>\n",
       "    <tr>\n",
       "      <th>1</th>\n",
       "      <td>3724</td>\n",
       "      <td>attempts</td>\n",
       "      <td>0.0</td>\n",
       "      <td>score</td>\n",
       "      <td>NaN</td>\n",
       "      <td>NaN</td>\n",
       "      <td>NaN</td>\n",
       "      <td>NaN</td>\n",
       "      <td>63</td>\n",
       "    </tr>\n",
       "    <tr>\n",
       "      <th>2</th>\n",
       "      <td>3724</td>\n",
       "      <td>attempts</td>\n",
       "      <td>0.0</td>\n",
       "      <td>speed</td>\n",
       "      <td>score</td>\n",
       "      <td>NaN</td>\n",
       "      <td>NaN</td>\n",
       "      <td>NaN</td>\n",
       "      <td>100</td>\n",
       "    </tr>\n",
       "    <tr>\n",
       "      <th>3</th>\n",
       "      <td>3724</td>\n",
       "      <td>attempts</td>\n",
       "      <td>0.0</td>\n",
       "      <td>speed</td>\n",
       "      <td>feedback</td>\n",
       "      <td>NaN</td>\n",
       "      <td>NaN</td>\n",
       "      <td>NaN</td>\n",
       "      <td>Excellent! Pleasant speed</td>\n",
       "    </tr>\n",
       "    <tr>\n",
       "      <th>4</th>\n",
       "      <td>3724</td>\n",
       "      <td>attempts</td>\n",
       "      <td>0.0</td>\n",
       "      <td>speed</td>\n",
       "      <td>utterance_rate</td>\n",
       "      <td>NaN</td>\n",
       "      <td>NaN</td>\n",
       "      <td>NaN</td>\n",
       "      <td>132</td>\n",
       "    </tr>\n",
       "    <tr>\n",
       "      <th>...</th>\n",
       "      <td>...</td>\n",
       "      <td>...</td>\n",
       "      <td>...</td>\n",
       "      <td>...</td>\n",
       "      <td>...</td>\n",
       "      <td>...</td>\n",
       "      <td>...</td>\n",
       "      <td>...</td>\n",
       "      <td>...</td>\n",
       "    </tr>\n",
       "    <tr>\n",
       "      <th>23640554</th>\n",
       "      <td>3645</td>\n",
       "      <td>attempts</td>\n",
       "      <td>0.0</td>\n",
       "      <td>audiopenalty</td>\n",
       "      <td>NaN</td>\n",
       "      <td>NaN</td>\n",
       "      <td>NaN</td>\n",
       "      <td>NaN</td>\n",
       "      <td>0</td>\n",
       "    </tr>\n",
       "    <tr>\n",
       "      <th>23640555</th>\n",
       "      <td>3645</td>\n",
       "      <td>attempts</td>\n",
       "      <td>0.0</td>\n",
       "      <td>wordlimitpenalty</td>\n",
       "      <td>NaN</td>\n",
       "      <td>NaN</td>\n",
       "      <td>NaN</td>\n",
       "      <td>NaN</td>\n",
       "      <td>10</td>\n",
       "    </tr>\n",
       "    <tr>\n",
       "      <th>23640556</th>\n",
       "      <td>3645</td>\n",
       "      <td>attempts</td>\n",
       "      <td>0.0</td>\n",
       "      <td>wordqualitypenalty</td>\n",
       "      <td>NaN</td>\n",
       "      <td>NaN</td>\n",
       "      <td>NaN</td>\n",
       "      <td>NaN</td>\n",
       "      <td>3</td>\n",
       "    </tr>\n",
       "    <tr>\n",
       "      <th>23640557</th>\n",
       "      <td>3645</td>\n",
       "      <td>attempts</td>\n",
       "      <td>0.0</td>\n",
       "      <td>requiredtextpenalty</td>\n",
       "      <td>NaN</td>\n",
       "      <td>NaN</td>\n",
       "      <td>NaN</td>\n",
       "      <td>NaN</td>\n",
       "      <td>0</td>\n",
       "    </tr>\n",
       "    <tr>\n",
       "      <th>23640558</th>\n",
       "      <td>3645</td>\n",
       "      <td>attempts</td>\n",
       "      <td>0.0</td>\n",
       "      <td>sentencequalitypenalty</td>\n",
       "      <td>NaN</td>\n",
       "      <td>NaN</td>\n",
       "      <td>NaN</td>\n",
       "      <td>NaN</td>\n",
       "      <td>19</td>\n",
       "    </tr>\n",
       "  </tbody>\n",
       "</table>\n",
       "<p>23640559 rows × 9 columns</p>\n",
       "</div>"
      ],
      "text/plain": [
       "          col2      col3  col4                    col5            col6 col7  \\\n",
       "0         3724     title   NaN                     NaN             NaN  NaN   \n",
       "1         3724  attempts   0.0                   score             NaN  NaN   \n",
       "2         3724  attempts   0.0                   speed           score  NaN   \n",
       "3         3724  attempts   0.0                   speed        feedback  NaN   \n",
       "4         3724  attempts   0.0                   speed  utterance_rate  NaN   \n",
       "...        ...       ...   ...                     ...             ...  ...   \n",
       "23640554  3645  attempts   0.0            audiopenalty             NaN  NaN   \n",
       "23640555  3645  attempts   0.0        wordlimitpenalty             NaN  NaN   \n",
       "23640556  3645  attempts   0.0      wordqualitypenalty             NaN  NaN   \n",
       "23640557  3645  attempts   0.0     requiredtextpenalty             NaN  NaN   \n",
       "23640558  3645  attempts   0.0  sentencequalitypenalty             NaN  NaN   \n",
       "\n",
       "         col8 col9                      value  \n",
       "0         NaN  NaN       HR-Q1002B: Strengths  \n",
       "1         NaN  NaN                         63  \n",
       "2         NaN  NaN                        100  \n",
       "3         NaN  NaN  Excellent! Pleasant speed  \n",
       "4         NaN  NaN                        132  \n",
       "...       ...  ...                        ...  \n",
       "23640554  NaN  NaN                          0  \n",
       "23640555  NaN  NaN                         10  \n",
       "23640556  NaN  NaN                          3  \n",
       "23640557  NaN  NaN                          0  \n",
       "23640558  NaN  NaN                         19  \n",
       "\n",
       "[23640559 rows x 9 columns]"
      ]
     },
     "execution_count": 62,
     "metadata": {},
     "output_type": "execute_result"
    }
   ],
   "source": [
    "data"
   ]
  },
  {
   "cell_type": "code",
   "execution_count": 70,
   "id": "f7f9985f",
   "metadata": {},
   "outputs": [
    {
     "data": {
      "text/plain": [
       "array(['HR-Q1002B: Strengths', '63', '100', ...,\n",
       "       \"Well, that depends if I usually work alone. I do research kind of work. Once I know what I have to do, I fully concentrate on do my work alone. I don't like disturbance, but of course I have to know the team who's doing what. But if it's necessary to work with a team, I get along fine with the people, so I can work with the team, so it depends on the kind of work I get.\",\n",
       "       '61.11392405063291', 'Essay 1'], dtype=object)"
      ]
     },
     "execution_count": 70,
     "metadata": {},
     "output_type": "execute_result"
    }
   ],
   "source": [
    "data['value'].unique()"
   ]
  },
  {
   "cell_type": "code",
   "execution_count": 30,
   "id": "0fdf8d40",
   "metadata": {},
   "outputs": [],
   "source": [
    "score_param_list=['speed', 'fluency', 'grammar', \n",
    "       'engagement', 'intonation', 'correctness',\n",
    "       'pronunciation']\n",
    "\n",
    "nonscore_param_list=['score', 'speed', 'fluency', 'grammar', 'timetaken',\n",
    "       'engagement', 'intonation', 'correctness', 'spoken_text',\n",
    "       'pronunciation', 'errors', 'quality', 'audiopenalty',\n",
    "       'wordlimitpenalty', 'wordqualitypenalty', 'requiredtextpenalty',\n",
    "       'sentencequalitypenalty', 'answers']"
   ]
  },
  {
   "cell_type": "code",
   "execution_count": 53,
   "id": "2c9efea5",
   "metadata": {},
   "outputs": [],
   "source": [
    "score_list=[]\n",
    "for item in score_param_list:\n",
    "    score_list.append((data[data['col5'].isin([item])&data['col6'].isin(['score'])][:]['value']).tolist())"
   ]
  },
  {
   "cell_type": "code",
   "execution_count": 57,
   "id": "ca673499",
   "metadata": {},
   "outputs": [
    {
     "data": {
      "text/plain": [
       "[Text(0, 0, 'speed'),\n",
       " Text(1, 0, 'fluency'),\n",
       " Text(2, 0, 'grammar'),\n",
       " Text(3, 0, 'engagement'),\n",
       " Text(4, 0, 'intonation'),\n",
       " Text(5, 0, 'correctness'),\n",
       " Text(6, 0, 'pronunciation')]"
      ]
     },
     "execution_count": 57,
     "metadata": {},
     "output_type": "execute_result"
    },
    {
     "data": {
      "image/png": "[encoded data removed]",
      "text/plain": [
       "<Figure size 432x288 with 1 Axes>"
      ]
     },
     "metadata": {
      "needs_background": "light"
     },
     "output_type": "display_data"
    }
   ],
   "source": [
    "sns.boxplot(data=test).set_xticklabels(rotation=90,labels=score_param_list)"
   ]
  }
 ],
 "metadata": {
  "kernelspec": {
   "display_name": "Python 3 (ipykernel)",
   "language": "python",
   "name": "python3"
  },
  "language_info": {
   "codemirror_mode": {
    "name": "ipython",
    "version": 3
   },
   "file_extension": ".py",
   "mimetype": "text/x-python",
   "name": "python",
   "nbconvert_exporter": "python",
   "pygments_lexer": "ipython3",
   "version": "3.9.7"
  }
 },
 "nbformat": 4,
 "nbformat_minor": 5
}
